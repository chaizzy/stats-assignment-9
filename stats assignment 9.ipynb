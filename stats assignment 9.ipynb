{
 "cells": [
  {
   "cell_type": "code",
   "execution_count": 12,
   "id": "fca22607-07ca-4be2-9eca-dfff74af14fd",
   "metadata": {},
   "outputs": [
    {
     "data": {
      "text/plain": [
       "(0.7291666666666665, 0.6313239861979227)"
      ]
     },
     "execution_count": 12,
     "metadata": {},
     "output_type": "execute_result"
    }
   ],
   "source": [
    "# ANS 1:\n",
    "import numpy as np\n",
    "from scipy.stats import f\n",
    "\n",
    "def f_value(data1, data2):\n",
    "    \n",
    "    n1 = len(data1)\n",
    "    n2 = len(data2)\n",
    "\n",
    "    var1 = np.var(data1, ddof=1) # variance1\n",
    "    var2 = np.var(data2, ddof=1) # variance2\n",
    "\n",
    "    F_value = var1 / var2\n",
    "    p_value = f.sf(F_value, n1 - 1, n2 - 1)\n",
    "\n",
    "    return F_value, p_value\n",
    "\n",
    "a=[2,3,4,5,6,8]\n",
    "b=[5,2,6,7,2,8]\n",
    "f_value(a,b)\n"
   ]
  },
  {
   "cell_type": "code",
   "execution_count": 11,
   "id": "de3bb691-05da-48f9-bc26-5c65ef2044ff",
   "metadata": {},
   "outputs": [],
   "source": [
    "# ANS 2 :\n",
    "from scipy.stats import f\n",
    "\n",
    "def critical_f_value(significance, dfn, dfd):\n",
    "    \n",
    "    significance = significance / 2  \n",
    "    critical_value = f.ppf(1 - significance, dfn, dfd)\n",
    "\n",
    "    return critical_value\n",
    "\n",
    "\n"
   ]
  },
  {
   "cell_type": "code",
   "execution_count": 21,
   "id": "bfe112e6-21dc-46d8-90b2-252e1b4f1032",
   "metadata": {},
   "outputs": [
    {
     "name": "stdout",
     "output_type": "stream",
     "text": [
      "F-value: 0.37909122447268057\n",
      "Degrees of freedom (numerator): 29\n",
      "Degrees of freedom (denominator): 29\n",
      "p-value: 0.9944814498306225\n"
     ]
    }
   ],
   "source": [
    "# ANS 3 :\n",
    "import numpy as np\n",
    "from scipy.stats import f\n",
    "\n",
    "def perform_f_test(data1, data2):\n",
    "    \n",
    "    n1 = len(data1)\n",
    "    n2 = len(data2)\n",
    "\n",
    "    var1 = np.var(data1, ddof=1)\n",
    "    var2 = np.var(data2, ddof=1)\n",
    "\n",
    "    f_value = var1 / var2\n",
    "    dfn = n1 - 1\n",
    "    dfd = n2 - 1\n",
    "    p_value = f.sf(f_value, dfn, dfd)\n",
    "\n",
    "    return f_value, dfn, dfd, p_value\n",
    "\n",
    "\n",
    "\n",
    "data1 = np.random.normal(0,1,30)\n",
    "data2 = np.random.normal(0,1.5,30)\n",
    "\n",
    "\n",
    "f_value, dfn, dfd, p_value = perform_f_test(data1, data2)\n",
    "\n",
    "\n",
    "print(\"F-value:\", f_value)\n",
    "print(\"Degrees of freedom (numerator):\", dfn)\n",
    "print(\"Degrees of freedom (denominator):\", dfd)\n",
    "print(\"p-value:\", p_value)\n",
    "\n"
   ]
  },
  {
   "cell_type": "code",
   "execution_count": 24,
   "id": "610ca3a7-2ad9-4e92-9e20-d76af000d639",
   "metadata": {},
   "outputs": [
    {
     "name": "stdout",
     "output_type": "stream",
     "text": [
      "f value :  0.6666666666666666\n",
      "p value :  0.7438051006321003\n",
      "critical value: 2.8179304699530863\n"
     ]
    }
   ],
   "source": [
    "# ANS 4:\n",
    "import numpy as np\n",
    "from scipy.stats import f\n",
    "# var1= 10\n",
    "# var2 = 15\n",
    "# sample_size1 = 12\n",
    "# sample_size2 = 12\n",
    "n1 = 12\n",
    "n2 = 12\n",
    "\n",
    "var1 = 10 # variance1\n",
    "var2 = 15 # variance2\n",
    "significance = 0.05\n",
    "\n",
    "F_value = var1 / var2\n",
    "p_value = f.sf(F_value, n1 - 1, n2 - 1)\n",
    "critical_value = f.ppf(1 - significance, n1 - 1, n2 - 1)\n",
    "\n",
    "print(\"f value : \" , F_value)\n",
    "print(\"p value : \" , p_value)\n",
    "print(\"critical value:\" ,critical_value ) \n"
   ]
  },
  {
   "cell_type": "code",
   "execution_count": 25,
   "id": "74784cdd-0712-4265-8665-93413ce6da4e",
   "metadata": {},
   "outputs": [],
   "source": [
    "# so, conclusion we fail to reject null hypothesis \n",
    "# there is no significant difference between both the samples"
   ]
  },
  {
   "cell_type": "code",
   "execution_count": 42,
   "id": "b02ab0ad-2e74-410e-bd76-5265b5edd533",
   "metadata": {},
   "outputs": [
    {
     "name": "stdout",
     "output_type": "stream",
     "text": [
      "f value :  0.8333333333333334\n",
      "p value :  0.7003488248226823\n",
      "critical value: 2.498988301135483\n"
     ]
    }
   ],
   "source": [
    "# ANS 5 :\n",
    "import numpy as np\n",
    "from scipy.stats import f\n",
    "# var1= 0.005\n",
    "# var2 = 15\n",
    "# assume sample_size1 = 40\n",
    "# sample_size2 = 25\n",
    "n1 = 40\n",
    "n2 = 25\n",
    "\n",
    "var1 = 0.005 # variance1\n",
    "var2 = 0.006 # variance2\n",
    "significance = 0.01\n",
    "\n",
    "F_value = var1 / var2\n",
    "p_value = f.sf(F_value, n1 - 1, n2 - 1)\n",
    "critical_value = f.ppf(1 - significance, n1 - 1, n2 - 1)\n",
    "\n",
    "print(\"f value : \" , F_value)\n",
    "print(\"p value : \" , p_value)\n",
    "print(\"critical value:\" ,critical_value ) \n"
   ]
  },
  {
   "cell_type": "code",
   "execution_count": 27,
   "id": "4a42eb74-ff52-418a-8491-3ea414da4523",
   "metadata": {},
   "outputs": [],
   "source": [
    "# so, we fail to reject the null hypothesis , claim is justified"
   ]
  },
  {
   "cell_type": "code",
   "execution_count": 40,
   "id": "cf61c276-f8af-4b8a-a784-21644329102a",
   "metadata": {},
   "outputs": [
    {
     "data": {
      "text/plain": [
       "(1.6666666666666667, 9.722222222222221)"
      ]
     },
     "execution_count": 40,
     "metadata": {},
     "output_type": "execute_result"
    }
   ],
   "source": [
    "# important\n",
    "# ANS 6 :\n",
    "def calculate_f_distribution(dfn, dfd):\n",
    "    \n",
    "    if dfd > 2 :\n",
    "        mean = dfd / (dfd - 2) \n",
    "    else:\n",
    "        float('inf')\n",
    "    if dfd > 4:    \n",
    "        variance = (2 * (dfd ** 2) * (dfn + dfd - 2)) / (dfn * ((dfd - 2) ** 2) * (dfd - 4))  \n",
    "    else:\n",
    "        float('inf')\n",
    "\n",
    "    return mean, variance\n",
    "a=4\n",
    "b=5\n",
    "calculate_f_distribution(a,b)"
   ]
  },
  {
   "cell_type": "code",
   "execution_count": 43,
   "id": "7a61ee94-fe76-49e5-88ca-70458b95df4d",
   "metadata": {},
   "outputs": [
    {
     "name": "stdout",
     "output_type": "stream",
     "text": [
      "f value :  1.25\n",
      "p value :  0.34160971912929744\n",
      "critical value: 2.121954566976902\n"
     ]
    }
   ],
   "source": [
    "# ANS 7 :\n",
    "import numpy as np\n",
    "from scipy.stats import f\n",
    "# var1= 25\n",
    "# var2 = 20\n",
    "# sample_size1 = 10\n",
    "# sample_size2 = 15\n",
    "n1 = 10\n",
    "n2 = 15\n",
    "\n",
    "var1 = 25 # variance1\n",
    "var2 = 20 # variance2\n",
    "significance = 0.10\n",
    "\n",
    "F_value = var1 / var2\n",
    "p_value = f.sf(F_value, n1 - 1, n2 - 1)\n",
    "critical_value = f.ppf(1 - significance, n1 - 1, n2 - 1)\n",
    "\n",
    "print(\"f value : \" , F_value)\n",
    "print(\"p value : \" , p_value)\n",
    "print(\"critical value:\" ,critical_value ) \n"
   ]
  },
  {
   "cell_type": "code",
   "execution_count": 46,
   "id": "49ddacdf-70ef-4c6d-962c-c2d9cf16f9e8",
   "metadata": {},
   "outputs": [],
   "source": [
    "# so , we fail to reject null hyothesis , both the variances are not significantly different"
   ]
  },
  {
   "cell_type": "code",
   "execution_count": 45,
   "id": "6543f9bc-bfad-4752-b371-dbabeadf5852",
   "metadata": {},
   "outputs": [
    {
     "name": "stdout",
     "output_type": "stream",
     "text": [
      "f value :  1.496767651159843\n",
      "p value :  0.33741335696408237\n",
      "critical value: 4.950288068694318\n"
     ]
    }
   ],
   "source": [
    "# ANS 8 :\n",
    "",
    "import numpy as np\n",
    "from scipy.stats import f\n",
    "\n",
    "A=[24, 25, 28, 23, 22, 20, 27]\n",
    "B=[31, 33, 35, 30, 32, 36]\n",
    "\n",
    "n1 = len(A)\n",
    "n2 = len(B)\n",
    "\n",
    "var1 = np.var(A)\n",
    "var2 = np.var(B)\n",
    "significance = 0.05\n",
    "\n",
    "F_value = var1 / var2\n",
    "p_value = f.sf(F_value, n1 - 1, n2 - 1)\n",
    "critical_value = f.ppf(1 - significance, n1 - 1, n2 - 1)\n",
    "\n",
    "print(\"f value : \" , F_value)\n",
    "print(\"p value : \" , p_value)\n",
    "print(\"critical value:\" ,critical_value ) \n"
   ]
  },
  {
   "cell_type": "code",
   "execution_count": 47,
   "id": "9e4d70c8-c792-4292-a632-2c6d058dbb48",
   "metadata": {},
   "outputs": [],
   "source": [
    "# so , we fail to reject null hyothesis , both the variances are not significantly different"
   ]
  },
  {
   "cell_type": "code",
   "execution_count": 49,
   "id": "09828eb6-af1b-4d40-b0ea-525c3a6ac2c5",
   "metadata": {},
   "outputs": [
    {
     "name": "stdout",
     "output_type": "stream",
     "text": [
      "f value :  1.9442622950819677\n",
      "p value :  0.2415521774535344\n",
      "critical value: 10.967020650907992\n"
     ]
    }
   ],
   "source": [
    "# ANS 9 :\n",
    "",
    "",
    "import numpy as np\n",
    "from scipy.stats import f\n",
    "\n",
    "A=[80, 85, 90, 92, 87, 83]\n",
    "B=[75, 78, 82, 79, 81, 84]\n",
    "\n",
    "n1 = len(A)\n",
    "n2 = len(B)\n",
    "\n",
    "var1 = np.var(A)\n",
    "var2 = np.var(B)\n",
    "significance = 0.01\n",
    "\n",
    "F_value = var1 / var2\n",
    "p_value = f.sf(F_value, n1 - 1, n2 - 1)\n",
    "critical_value = f.ppf(1 - significance, n1 - 1, n2 - 1)\n",
    "\n",
    "print(\"f value : \" , F_value)\n",
    "print(\"p value : \" , p_value)\n",
    "print(\"critical value:\" ,critical_value ) \n"
   ]
  },
  {
   "cell_type": "code",
   "execution_count": null,
   "id": "642cdbbe-9ca9-4395-973a-6a7126363b8e",
   "metadata": {},
   "outputs": [],
   "source": [
    "# so , we fail to reject null hyothesis , both the variances are not significantly different"
   ]
  }
 ],
 "metadata": {
  "kernelspec": {
   "display_name": "Python 3 (ipykernel)",
   "language": "python",
   "name": "python3"
  },
  "language_info": {
   "codemirror_mode": {
    "name": "ipython",
    "version": 3
   },
   "file_extension": ".py",
   "mimetype": "text/x-python",
   "name": "python",
   "nbconvert_exporter": "python",
   "pygments_lexer": "ipython3",
   "version": "3.10.8"
  }
 },
 "nbformat": 4,
 "nbformat_minor": 5
}
